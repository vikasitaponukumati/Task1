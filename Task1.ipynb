{
  "metadata": {
    "kernelspec": {
      "name": "python",
      "display_name": "Python (Pyodide)",
      "language": "python"
    },
    "language_info": {
      "codemirror_mode": {
        "name": "python",
        "version": 3
      },
      "file_extension": ".py",
      "mimetype": "text/x-python",
      "name": "python",
      "nbconvert_exporter": "python",
      "pygments_lexer": "ipython3",
      "version": "3.8"
    }
  },
  "nbformat_minor": 4,
  "nbformat": 4,
  "cells": [
    {
      "cell_type": "code",
      "source": "#create a list\nmy_list=[1,2,3,4]\n#add a element to a list\nmy_list.append(8)\n#remove a element to a list\nmy_list.remove(4)\n#update the list\nmy_list[0]=30\nprint(\"updated list\",my_list)\n",
      "metadata": {
        "trusted": true
      },
      "outputs": [
        {
          "name": "stdout",
          "text": "updated list [30, 2, 3, 8]\n",
          "output_type": "stream"
        }
      ],
      "execution_count": 1
    },
    {
      "cell_type": "code",
      "source": "#create a dictionary\nmy_dict={'name':'vikasita','age':19,'city':'vijayawada'}\n#add a element to dictionary\nmy_dict['gender']='female'\n#remove a value\nmy_dict['city']\n#update dictionary\nmy_dict['name']='ponukumati vikasita'\nprint(\"updated values:\",my_dict)",
      "metadata": {
        "trusted": true
      },
      "outputs": [
        {
          "name": "stdout",
          "text": "updated values: {'name': 'ponukumati vikasita', 'age': 19, 'city': 'vijayawada', 'gender': 'female'}\n",
          "output_type": "stream"
        }
      ],
      "execution_count": 2
    },
    {
      "cell_type": "code",
      "source": "#create a set\nmy_set=(1,2,3,4)\n#add a element\nmy_set.add(5)\n#delete a element\nmy_set.discard(3)\n#update a element\nmy_set\nprint(\"updated set\",my_set)",
      "metadata": {
        "trusted": true
      },
      "outputs": [
        {
          "name": "stdout",
          "text": "updated set (1, 2, 3, 4)\n",
          "output_type": "stream"
        }
      ],
      "execution_count": 3
    },
    {
      "cell_type": "code",
      "source": "",
      "metadata": {
        "trusted": true
      },
      "outputs": [],
      "execution_count": null
    }
  ]
}